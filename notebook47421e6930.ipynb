{
 "cells": [
  {
   "cell_type": "code",
   "execution_count": 1,
   "id": "f26460fc",
   "metadata": {
    "_cell_guid": "b1076dfc-b9ad-4769-8c92-a6c4dae69d19",
    "_uuid": "8f2839f25d086af736a60e9eeb907d3b93b6e0e5",
    "execution": {
     "iopub.execute_input": "2024-05-07T03:02:59.543507Z",
     "iopub.status.busy": "2024-05-07T03:02:59.542850Z",
     "iopub.status.idle": "2024-05-07T03:03:02.038731Z",
     "shell.execute_reply": "2024-05-07T03:03:02.037264Z"
    },
    "papermill": {
     "duration": 2.510954,
     "end_time": "2024-05-07T03:03:02.041634",
     "exception": false,
     "start_time": "2024-05-07T03:02:59.530680",
     "status": "completed"
    },
    "tags": []
   },
   "outputs": [
    {
     "name": "stdout",
     "output_type": "stream",
     "text": [
      "/kaggle/input/titanic/train.csv\n",
      "/kaggle/input/titanic/test.csv\n",
      "/kaggle/input/titanic/gender_submission.csv\n"
     ]
    }
   ],
   "source": [
    "# This Python 3 environment comes with many helpful analytics libraries installed\n",
    "# It is defined by the kaggle/python Docker image: https://github.com/kaggle/docker-python\n",
    "# For example, here's several helpful packages to load\n",
    "\n",
    "import numpy as np # linear algebra\n",
    "import pandas as pd # data processing, CSV file I/O (e.g. pd.read_csv)\n",
    "import matplotlib.pyplot as plt\n",
    "import seaborn as sns\n",
    "\n",
    "# Input data files are available in the read-only \"../input/\" directory\n",
    "# For example, running this (by clicking run or pressing Shift+Enter) will list all files under the input directory\n",
    "\n",
    "import os\n",
    "for dirname, _, filenames in os.walk('/kaggle/input'):\n",
    "    for filename in filenames:\n",
    "        print(os.path.join(dirname, filename))\n",
    "\n",
    "# You can write up to 20GB to the current directory (/kaggle/working/) that gets preserved as output when you create a version using \"Save & Run All\" \n",
    "# You can also write temporary files to /kaggle/temp/, but they won't be saved outside of the current session"
   ]
  },
  {
   "cell_type": "code",
   "execution_count": 2,
   "id": "2a88f7c6",
   "metadata": {
    "execution": {
     "iopub.execute_input": "2024-05-07T03:03:02.064591Z",
     "iopub.status.busy": "2024-05-07T03:03:02.063503Z",
     "iopub.status.idle": "2024-05-07T03:03:02.085130Z",
     "shell.execute_reply": "2024-05-07T03:03:02.083835Z"
    },
    "papermill": {
     "duration": 0.036102,
     "end_time": "2024-05-07T03:03:02.087803",
     "exception": false,
     "start_time": "2024-05-07T03:03:02.051701",
     "status": "completed"
    },
    "tags": []
   },
   "outputs": [],
   "source": [
    "# Load the gender submission data\n",
    "gender_submission = pd.read_csv(\"/kaggle/input/titanic/gender_submission.csv\")\n"
   ]
  },
  {
   "cell_type": "code",
   "execution_count": 3,
   "id": "05d17c14",
   "metadata": {
    "execution": {
     "iopub.execute_input": "2024-05-07T03:03:02.109484Z",
     "iopub.status.busy": "2024-05-07T03:03:02.109023Z",
     "iopub.status.idle": "2024-05-07T03:03:02.134859Z",
     "shell.execute_reply": "2024-05-07T03:03:02.133901Z"
    },
    "papermill": {
     "duration": 0.040184,
     "end_time": "2024-05-07T03:03:02.137893",
     "exception": false,
     "start_time": "2024-05-07T03:03:02.097709",
     "status": "completed"
    },
    "tags": []
   },
   "outputs": [],
   "source": [
    "# Load the training data\n",
    "train_data = pd.read_csv(\"/kaggle/input/titanic/train.csv\")\n",
    "\n",
    "# Load the test data\n",
    "test_data = pd.read_csv(\"/kaggle/input/titanic/test.csv\")\n"
   ]
  },
  {
   "cell_type": "code",
   "execution_count": 4,
   "id": "e44cdb15",
   "metadata": {
    "execution": {
     "iopub.execute_input": "2024-05-07T03:03:02.161364Z",
     "iopub.status.busy": "2024-05-07T03:03:02.160170Z",
     "iopub.status.idle": "2024-05-07T03:03:02.190220Z",
     "shell.execute_reply": "2024-05-07T03:03:02.188787Z"
    },
    "papermill": {
     "duration": 0.044922,
     "end_time": "2024-05-07T03:03:02.193453",
     "exception": false,
     "start_time": "2024-05-07T03:03:02.148531",
     "status": "completed"
    },
    "tags": []
   },
   "outputs": [
    {
     "name": "stdout",
     "output_type": "stream",
     "text": [
      "Training Data:\n",
      "   PassengerId  Survived  Pclass  \\\n",
      "0            1         0       3   \n",
      "1            2         1       1   \n",
      "2            3         1       3   \n",
      "3            4         1       1   \n",
      "4            5         0       3   \n",
      "\n",
      "                                                Name     Sex   Age  SibSp  \\\n",
      "0                            Braund, Mr. Owen Harris    male  22.0      1   \n",
      "1  Cumings, Mrs. John Bradley (Florence Briggs Th...  female  38.0      1   \n",
      "2                             Heikkinen, Miss. Laina  female  26.0      0   \n",
      "3       Futrelle, Mrs. Jacques Heath (Lily May Peel)  female  35.0      1   \n",
      "4                           Allen, Mr. William Henry    male  35.0      0   \n",
      "\n",
      "   Parch            Ticket     Fare Cabin Embarked  \n",
      "0      0         A/5 21171   7.2500   NaN        S  \n",
      "1      0          PC 17599  71.2833   C85        C  \n",
      "2      0  STON/O2. 3101282   7.9250   NaN        S  \n",
      "3      0            113803  53.1000  C123        S  \n",
      "4      0            373450   8.0500   NaN        S  \n",
      "\n",
      "Test Data:\n",
      "   PassengerId  Pclass                                          Name     Sex  \\\n",
      "0          892       3                              Kelly, Mr. James    male   \n",
      "1          893       3              Wilkes, Mrs. James (Ellen Needs)  female   \n",
      "2          894       2                     Myles, Mr. Thomas Francis    male   \n",
      "3          895       3                              Wirz, Mr. Albert    male   \n",
      "4          896       3  Hirvonen, Mrs. Alexander (Helga E Lindqvist)  female   \n",
      "\n",
      "    Age  SibSp  Parch   Ticket     Fare Cabin Embarked  \n",
      "0  34.5      0      0   330911   7.8292   NaN        Q  \n",
      "1  47.0      1      0   363272   7.0000   NaN        S  \n",
      "2  62.0      0      0   240276   9.6875   NaN        Q  \n",
      "3  27.0      0      0   315154   8.6625   NaN        S  \n",
      "4  22.0      1      1  3101298  12.2875   NaN        S  \n",
      "\n",
      "Gender Submission Data:\n",
      "   PassengerId  Survived\n",
      "0          892         0\n",
      "1          893         1\n",
      "2          894         0\n",
      "3          895         0\n",
      "4          896         1\n"
     ]
    }
   ],
   "source": [
    "# Display the first few rows of each dataset to understand its structure\n",
    "print(\"Training Data:\")\n",
    "print(train_data.head())\n",
    "print(\"\\nTest Data:\")\n",
    "print(test_data.head())\n",
    "print(\"\\nGender Submission Data:\")\n",
    "print(gender_submission.head())"
   ]
  },
  {
   "cell_type": "code",
   "execution_count": 5,
   "id": "d6ad9f02",
   "metadata": {
    "execution": {
     "iopub.execute_input": "2024-05-07T03:03:02.216536Z",
     "iopub.status.busy": "2024-05-07T03:03:02.215430Z",
     "iopub.status.idle": "2024-05-07T03:03:02.250063Z",
     "shell.execute_reply": "2024-05-07T03:03:02.248810Z"
    },
    "papermill": {
     "duration": 0.048895,
     "end_time": "2024-05-07T03:03:02.252957",
     "exception": false,
     "start_time": "2024-05-07T03:03:02.204062",
     "status": "completed"
    },
    "tags": []
   },
   "outputs": [
    {
     "name": "stdout",
     "output_type": "stream",
     "text": [
      "Summary Statistics:\n",
      "       PassengerId    Survived      Pclass         Age       SibSp  \\\n",
      "count   891.000000  891.000000  891.000000  714.000000  891.000000   \n",
      "mean    446.000000    0.383838    2.308642   29.699118    0.523008   \n",
      "std     257.353842    0.486592    0.836071   14.526497    1.102743   \n",
      "min       1.000000    0.000000    1.000000    0.420000    0.000000   \n",
      "25%     223.500000    0.000000    2.000000   20.125000    0.000000   \n",
      "50%     446.000000    0.000000    3.000000   28.000000    0.000000   \n",
      "75%     668.500000    1.000000    3.000000   38.000000    1.000000   \n",
      "max     891.000000    1.000000    3.000000   80.000000    8.000000   \n",
      "\n",
      "            Parch        Fare  \n",
      "count  891.000000  891.000000  \n",
      "mean     0.381594   32.204208  \n",
      "std      0.806057   49.693429  \n",
      "min      0.000000    0.000000  \n",
      "25%      0.000000    7.910400  \n",
      "50%      0.000000   14.454200  \n",
      "75%      0.000000   31.000000  \n",
      "max      6.000000  512.329200  \n"
     ]
    }
   ],
   "source": [
    "# Summary statistics\n",
    "print(\"Summary Statistics:\")\n",
    "print(train_data.describe())"
   ]
  },
  {
   "cell_type": "code",
   "execution_count": 6,
   "id": "9e09e20c",
   "metadata": {
    "execution": {
     "iopub.execute_input": "2024-05-07T03:03:02.275644Z",
     "iopub.status.busy": "2024-05-07T03:03:02.275249Z",
     "iopub.status.idle": "2024-05-07T03:03:02.601382Z",
     "shell.execute_reply": "2024-05-07T03:03:02.599762Z"
    },
    "papermill": {
     "duration": 0.341096,
     "end_time": "2024-05-07T03:03:02.604338",
     "exception": false,
     "start_time": "2024-05-07T03:03:02.263242",
     "status": "completed"
    },
    "tags": []
   },
   "outputs": [
    {
     "data": {
      "text/plain": [
       "Text(0.5, 1.0, 'Survival Distribution')"
      ]
     },
     "execution_count": 6,
     "metadata": {},
     "output_type": "execute_result"
    },
    {
     "data": {
      "image/png": "[encoded data removed]",
      "text/plain": [
       "<Figure size 1200x600 with 1 Axes>"
      ]
     },
     "metadata": {},
     "output_type": "display_data"
    }
   ],
   "source": [
    "# Visualize the distribution of some key features\n",
    "plt.figure(figsize=(12, 6))\n",
    "plt.subplot(1, 2, 1)\n",
    "sns.countplot(x='Survived', data=train_data)\n",
    "plt.title('Survival Distribution')"
   ]
  },
  {
   "cell_type": "code",
   "execution_count": 7,
   "id": "0a59d374",
   "metadata": {
    "execution": {
     "iopub.execute_input": "2024-05-07T03:03:02.628454Z",
     "iopub.status.busy": "2024-05-07T03:03:02.628026Z",
     "iopub.status.idle": "2024-05-07T03:03:02.980620Z",
     "shell.execute_reply": "2024-05-07T03:03:02.979242Z"
    },
    "papermill": {
     "duration": 0.367364,
     "end_time": "2024-05-07T03:03:02.983486",
     "exception": false,
     "start_time": "2024-05-07T03:03:02.616122",
     "status": "completed"
    },
    "tags": []
   },
   "outputs": [
    {
     "data": {
      "image/png": "[encoded data removed]",
      "text/plain": [
       "<Figure size 640x480 with 1 Axes>"
      ]
     },
     "metadata": {},
     "output_type": "display_data"
    }
   ],
   "source": [
    "plt.subplot(1, 2, 2)\n",
    "sns.countplot(x='Sex', hue='Survived', data=train_data)\n",
    "plt.title('Survival by Gender')\n",
    "plt.show()"
   ]
  },
  {
   "cell_type": "code",
   "execution_count": 8,
   "id": "a0827f2c",
   "metadata": {
    "execution": {
     "iopub.execute_input": "2024-05-07T03:03:03.007560Z",
     "iopub.status.busy": "2024-05-07T03:03:03.007110Z",
     "iopub.status.idle": "2024-05-07T03:03:03.016370Z",
     "shell.execute_reply": "2024-05-07T03:03:03.014584Z"
    },
    "papermill": {
     "duration": 0.024145,
     "end_time": "2024-05-07T03:03:03.018836",
     "exception": false,
     "start_time": "2024-05-07T03:03:02.994691",
     "status": "completed"
    },
    "tags": []
   },
   "outputs": [
    {
     "name": "stdout",
     "output_type": "stream",
     "text": [
      "Missing values in training data:\n",
      "PassengerId      0\n",
      "Survived         0\n",
      "Pclass           0\n",
      "Name             0\n",
      "Sex              0\n",
      "Age            177\n",
      "SibSp            0\n",
      "Parch            0\n",
      "Ticket           0\n",
      "Fare             0\n",
      "Cabin          687\n",
      "Embarked         2\n",
      "dtype: int64\n"
     ]
    }
   ],
   "source": [
    "# Check for missing values in the training dataset\n",
    "print(\"Missing values in training data:\")\n",
    "print(train_data.isnull().sum())"
   ]
  },
  {
   "cell_type": "code",
   "execution_count": 9,
   "id": "a22add23",
   "metadata": {
    "execution": {
     "iopub.execute_input": "2024-05-07T03:03:03.043987Z",
     "iopub.status.busy": "2024-05-07T03:03:03.043539Z",
     "iopub.status.idle": "2024-05-07T03:03:03.052300Z",
     "shell.execute_reply": "2024-05-07T03:03:03.050554Z"
    },
    "papermill": {
     "duration": 0.023958,
     "end_time": "2024-05-07T03:03:03.054726",
     "exception": false,
     "start_time": "2024-05-07T03:03:03.030768",
     "status": "completed"
    },
    "tags": []
   },
   "outputs": [
    {
     "name": "stdout",
     "output_type": "stream",
     "text": [
      "\n",
      "Missing values in test data:\n",
      "PassengerId      0\n",
      "Pclass           0\n",
      "Name             0\n",
      "Sex              0\n",
      "Age             86\n",
      "SibSp            0\n",
      "Parch            0\n",
      "Ticket           0\n",
      "Fare             1\n",
      "Cabin          327\n",
      "Embarked         0\n",
      "dtype: int64\n"
     ]
    }
   ],
   "source": [
    "# Check for missing values in the test dataset\n",
    "print(\"\\nMissing values in test data:\")\n",
    "print(test_data.isnull().sum())"
   ]
  },
  {
   "cell_type": "code",
   "execution_count": 10,
   "id": "6679b504",
   "metadata": {
    "execution": {
     "iopub.execute_input": "2024-05-07T03:03:03.079971Z",
     "iopub.status.busy": "2024-05-07T03:03:03.078851Z",
     "iopub.status.idle": "2024-05-07T03:03:03.095287Z",
     "shell.execute_reply": "2024-05-07T03:03:03.094095Z"
    },
    "papermill": {
     "duration": 0.032204,
     "end_time": "2024-05-07T03:03:03.098313",
     "exception": false,
     "start_time": "2024-05-07T03:03:03.066109",
     "status": "completed"
    },
    "tags": []
   },
   "outputs": [],
   "source": [
    "# Perform one-hot encoding for 'Sex' variable\n",
    "train_data = pd.get_dummies(train_data, columns=['Sex'], drop_first=True)\n",
    "test_data = pd.get_dummies(test_data, columns=['Sex'], drop_first=True)"
   ]
  },
  {
   "cell_type": "code",
   "execution_count": 11,
   "id": "a2db8877",
   "metadata": {
    "execution": {
     "iopub.execute_input": "2024-05-07T03:03:03.122829Z",
     "iopub.status.busy": "2024-05-07T03:03:03.122384Z",
     "iopub.status.idle": "2024-05-07T03:03:03.132250Z",
     "shell.execute_reply": "2024-05-07T03:03:03.130841Z"
    },
    "papermill": {
     "duration": 0.025093,
     "end_time": "2024-05-07T03:03:03.134762",
     "exception": false,
     "start_time": "2024-05-07T03:03:03.109669",
     "status": "completed"
    },
    "tags": []
   },
   "outputs": [],
   "source": [
    "# Perform label encoding for 'Embarked' variable\n",
    "train_data['Embarked'] = train_data['Embarked'].map({'S': 0, 'C': 1, 'Q': 2})\n",
    "test_data['Embarked'] = test_data['Embarked'].map({'S': 0, 'C': 1, 'Q': 2})"
   ]
  },
  {
   "cell_type": "code",
   "execution_count": 12,
   "id": "1c781284",
   "metadata": {
    "execution": {
     "iopub.execute_input": "2024-05-07T03:03:03.159421Z",
     "iopub.status.busy": "2024-05-07T03:03:03.158889Z",
     "iopub.status.idle": "2024-05-07T03:03:03.171111Z",
     "shell.execute_reply": "2024-05-07T03:03:03.169543Z"
    },
    "papermill": {
     "duration": 0.027561,
     "end_time": "2024-05-07T03:03:03.173766",
     "exception": false,
     "start_time": "2024-05-07T03:03:03.146205",
     "status": "completed"
    },
    "tags": []
   },
   "outputs": [
    {
     "name": "stdout",
     "output_type": "stream",
     "text": [
      "Updated training data:\n",
      "   PassengerId  Survived  Pclass  \\\n",
      "0            1         0       3   \n",
      "1            2         1       1   \n",
      "2            3         1       3   \n",
      "3            4         1       1   \n",
      "4            5         0       3   \n",
      "\n",
      "                                                Name   Age  SibSp  Parch  \\\n",
      "0                            Braund, Mr. Owen Harris  22.0      1      0   \n",
      "1  Cumings, Mrs. John Bradley (Florence Briggs Th...  38.0      1      0   \n",
      "2                             Heikkinen, Miss. Laina  26.0      0      0   \n",
      "3       Futrelle, Mrs. Jacques Heath (Lily May Peel)  35.0      1      0   \n",
      "4                           Allen, Mr. William Henry  35.0      0      0   \n",
      "\n",
      "             Ticket     Fare Cabin  Embarked  Sex_male  \n",
      "0         A/5 21171   7.2500   NaN       0.0      True  \n",
      "1          PC 17599  71.2833   C85       1.0     False  \n",
      "2  STON/O2. 3101282   7.9250   NaN       0.0     False  \n",
      "3            113803  53.1000  C123       0.0     False  \n",
      "4            373450   8.0500   NaN       0.0      True  \n"
     ]
    }
   ],
   "source": [
    "# Check the updated datasets\n",
    "print(\"Updated training data:\")\n",
    "print(train_data.head())"
   ]
  },
  {
   "cell_type": "code",
   "execution_count": 13,
   "id": "195e6140",
   "metadata": {
    "execution": {
     "iopub.execute_input": "2024-05-07T03:03:03.199188Z",
     "iopub.status.busy": "2024-05-07T03:03:03.198508Z",
     "iopub.status.idle": "2024-05-07T03:03:03.209774Z",
     "shell.execute_reply": "2024-05-07T03:03:03.208390Z"
    },
    "papermill": {
     "duration": 0.027205,
     "end_time": "2024-05-07T03:03:03.212479",
     "exception": false,
     "start_time": "2024-05-07T03:03:03.185274",
     "status": "completed"
    },
    "tags": []
   },
   "outputs": [
    {
     "name": "stdout",
     "output_type": "stream",
     "text": [
      "\n",
      "Updated test data:\n",
      "   PassengerId  Pclass                                          Name   Age  \\\n",
      "0          892       3                              Kelly, Mr. James  34.5   \n",
      "1          893       3              Wilkes, Mrs. James (Ellen Needs)  47.0   \n",
      "2          894       2                     Myles, Mr. Thomas Francis  62.0   \n",
      "3          895       3                              Wirz, Mr. Albert  27.0   \n",
      "4          896       3  Hirvonen, Mrs. Alexander (Helga E Lindqvist)  22.0   \n",
      "\n",
      "   SibSp  Parch   Ticket     Fare Cabin  Embarked  Sex_male  \n",
      "0      0      0   330911   7.8292   NaN         2      True  \n",
      "1      1      0   363272   7.0000   NaN         0     False  \n",
      "2      0      0   240276   9.6875   NaN         2      True  \n",
      "3      0      0   315154   8.6625   NaN         0      True  \n",
      "4      1      1  3101298  12.2875   NaN         0     False  \n"
     ]
    }
   ],
   "source": [
    "print(\"\\nUpdated test data:\")\n",
    "print(test_data.head())"
   ]
  },
  {
   "cell_type": "code",
   "execution_count": 14,
   "id": "85173298",
   "metadata": {
    "execution": {
     "iopub.execute_input": "2024-05-07T03:03:03.238272Z",
     "iopub.status.busy": "2024-05-07T03:03:03.237578Z",
     "iopub.status.idle": "2024-05-07T03:03:03.245602Z",
     "shell.execute_reply": "2024-05-07T03:03:03.244607Z"
    },
    "papermill": {
     "duration": 0.02444,
     "end_time": "2024-05-07T03:03:03.248412",
     "exception": false,
     "start_time": "2024-05-07T03:03:03.223972",
     "status": "completed"
    },
    "tags": []
   },
   "outputs": [],
   "source": [
    "# Create a new feature 'FamilySize' by adding 'SibSp' and 'Parch'\n",
    "train_data['FamilySize'] = train_data['SibSp'] + train_data['Parch'] + 1\n",
    "test_data['FamilySize'] = test_data['SibSp'] + test_data['Parch'] + 1"
   ]
  },
  {
   "cell_type": "code",
   "execution_count": 15,
   "id": "8397439d",
   "metadata": {
    "execution": {
     "iopub.execute_input": "2024-05-07T03:03:03.274650Z",
     "iopub.status.busy": "2024-05-07T03:03:03.273947Z",
     "iopub.status.idle": "2024-05-07T03:03:03.281831Z",
     "shell.execute_reply": "2024-05-07T03:03:03.280879Z"
    },
    "papermill": {
     "duration": 0.024368,
     "end_time": "2024-05-07T03:03:03.284482",
     "exception": false,
     "start_time": "2024-05-07T03:03:03.260114",
     "status": "completed"
    },
    "tags": []
   },
   "outputs": [],
   "source": [
    "# Drop 'SibSp' and 'Parch' columns as we have already extracted information into 'FamilySize'\n",
    "train_data.drop(['SibSp', 'Parch'], axis=1, inplace=True)\n",
    "test_data.drop(['SibSp', 'Parch'], axis=1, inplace=True)"
   ]
  },
  {
   "cell_type": "code",
   "execution_count": 16,
   "id": "2d087093",
   "metadata": {
    "execution": {
     "iopub.execute_input": "2024-05-07T03:03:03.309701Z",
     "iopub.status.busy": "2024-05-07T03:03:03.309044Z",
     "iopub.status.idle": "2024-05-07T03:03:03.320264Z",
     "shell.execute_reply": "2024-05-07T03:03:03.319277Z"
    },
    "papermill": {
     "duration": 0.027063,
     "end_time": "2024-05-07T03:03:03.322915",
     "exception": false,
     "start_time": "2024-05-07T03:03:03.295852",
     "status": "completed"
    },
    "tags": []
   },
   "outputs": [
    {
     "name": "stdout",
     "output_type": "stream",
     "text": [
      "Updated training data:\n",
      "   PassengerId  Survived  Pclass  \\\n",
      "0            1         0       3   \n",
      "1            2         1       1   \n",
      "2            3         1       3   \n",
      "3            4         1       1   \n",
      "4            5         0       3   \n",
      "\n",
      "                                                Name   Age            Ticket  \\\n",
      "0                            Braund, Mr. Owen Harris  22.0         A/5 21171   \n",
      "1  Cumings, Mrs. John Bradley (Florence Briggs Th...  38.0          PC 17599   \n",
      "2                             Heikkinen, Miss. Laina  26.0  STON/O2. 3101282   \n",
      "3       Futrelle, Mrs. Jacques Heath (Lily May Peel)  35.0            113803   \n",
      "4                           Allen, Mr. William Henry  35.0            373450   \n",
      "\n",
      "      Fare Cabin  Embarked  Sex_male  FamilySize  \n",
      "0   7.2500   NaN       0.0      True           2  \n",
      "1  71.2833   C85       1.0     False           2  \n",
      "2   7.9250   NaN       0.0     False           1  \n",
      "3  53.1000  C123       0.0     False           2  \n",
      "4   8.0500   NaN       0.0      True           1  \n"
     ]
    }
   ],
   "source": [
    "# Check the updated datasets\n",
    "print(\"Updated training data:\")\n",
    "print(train_data.head())"
   ]
  },
  {
   "cell_type": "code",
   "execution_count": 17,
   "id": "3231190c",
   "metadata": {
    "execution": {
     "iopub.execute_input": "2024-05-07T03:03:03.348345Z",
     "iopub.status.busy": "2024-05-07T03:03:03.347895Z",
     "iopub.status.idle": "2024-05-07T03:03:03.359721Z",
     "shell.execute_reply": "2024-05-07T03:03:03.358056Z"
    },
    "papermill": {
     "duration": 0.027413,
     "end_time": "2024-05-07T03:03:03.362408",
     "exception": false,
     "start_time": "2024-05-07T03:03:03.334995",
     "status": "completed"
    },
    "tags": []
   },
   "outputs": [
    {
     "name": "stdout",
     "output_type": "stream",
     "text": [
      "\n",
      "Updated test data:\n",
      "   PassengerId  Pclass                                          Name   Age  \\\n",
      "0          892       3                              Kelly, Mr. James  34.5   \n",
      "1          893       3              Wilkes, Mrs. James (Ellen Needs)  47.0   \n",
      "2          894       2                     Myles, Mr. Thomas Francis  62.0   \n",
      "3          895       3                              Wirz, Mr. Albert  27.0   \n",
      "4          896       3  Hirvonen, Mrs. Alexander (Helga E Lindqvist)  22.0   \n",
      "\n",
      "    Ticket     Fare Cabin  Embarked  Sex_male  FamilySize  \n",
      "0   330911   7.8292   NaN         2      True           1  \n",
      "1   363272   7.0000   NaN         0     False           2  \n",
      "2   240276   9.6875   NaN         2      True           1  \n",
      "3   315154   8.6625   NaN         0      True           1  \n",
      "4  3101298  12.2875   NaN         0     False           3  \n"
     ]
    }
   ],
   "source": [
    "print(\"\\nUpdated test data:\")\n",
    "print(test_data.head())"
   ]
  },
  {
   "cell_type": "code",
   "execution_count": 18,
   "id": "47d45569",
   "metadata": {
    "execution": {
     "iopub.execute_input": "2024-05-07T03:03:03.388802Z",
     "iopub.status.busy": "2024-05-07T03:03:03.388086Z",
     "iopub.status.idle": "2024-05-07T03:03:03.809314Z",
     "shell.execute_reply": "2024-05-07T03:03:03.807838Z"
    },
    "papermill": {
     "duration": 0.437914,
     "end_time": "2024-05-07T03:03:03.812254",
     "exception": false,
     "start_time": "2024-05-07T03:03:03.374340",
     "status": "completed"
    },
    "tags": []
   },
   "outputs": [],
   "source": [
    "from sklearn.model_selection import train_test_split\n",
    "from sklearn.linear_model import LogisticRegression\n",
    "from sklearn.metrics import accuracy_score"
   ]
  },
  {
   "cell_type": "code",
   "execution_count": 19,
   "id": "b9caad60",
   "metadata": {
    "execution": {
     "iopub.execute_input": "2024-05-07T03:03:03.838827Z",
     "iopub.status.busy": "2024-05-07T03:03:03.837813Z",
     "iopub.status.idle": "2024-05-07T03:03:03.844422Z",
     "shell.execute_reply": "2024-05-07T03:03:03.843366Z"
    },
    "papermill": {
     "duration": 0.022744,
     "end_time": "2024-05-07T03:03:03.846990",
     "exception": false,
     "start_time": "2024-05-07T03:03:03.824246",
     "status": "completed"
    },
    "tags": []
   },
   "outputs": [],
   "source": [
    "# Split the training data into features and target variable\n",
    "X_train = train_data.drop(['PassengerId', 'Survived'], axis=1)\n",
    "y_train = train_data['Survived']"
   ]
  },
  {
   "cell_type": "code",
   "execution_count": 20,
   "id": "1547dff8",
   "metadata": {
    "execution": {
     "iopub.execute_input": "2024-05-07T03:03:03.873201Z",
     "iopub.status.busy": "2024-05-07T03:03:03.872268Z",
     "iopub.status.idle": "2024-05-07T03:03:03.883494Z",
     "shell.execute_reply": "2024-05-07T03:03:03.882105Z"
    },
    "papermill": {
     "duration": 0.027789,
     "end_time": "2024-05-07T03:03:03.886509",
     "exception": false,
     "start_time": "2024-05-07T03:03:03.858720",
     "status": "completed"
    },
    "tags": []
   },
   "outputs": [],
   "source": [
    "# Split the training data into training and validation sets\n",
    "X_train_split, X_val, y_train_split, y_val = train_test_split(X_train, y_train, test_size=0.2, random_state=42)"
   ]
  },
  {
   "cell_type": "code",
   "execution_count": 21,
   "id": "d5de2d69",
   "metadata": {
    "execution": {
     "iopub.execute_input": "2024-05-07T03:03:03.911972Z",
     "iopub.status.busy": "2024-05-07T03:03:03.911545Z",
     "iopub.status.idle": "2024-05-07T03:03:03.918664Z",
     "shell.execute_reply": "2024-05-07T03:03:03.917486Z"
    },
    "papermill": {
     "duration": 0.022827,
     "end_time": "2024-05-07T03:03:03.921318",
     "exception": false,
     "start_time": "2024-05-07T03:03:03.898491",
     "status": "completed"
    },
    "tags": []
   },
   "outputs": [
    {
     "name": "stdout",
     "output_type": "stream",
     "text": [
      "Data Types in Training Data:\n",
      "PassengerId      int64\n",
      "Survived         int64\n",
      "Pclass           int64\n",
      "Name            object\n",
      "Age            float64\n",
      "Ticket          object\n",
      "Fare           float64\n",
      "Cabin           object\n",
      "Embarked       float64\n",
      "Sex_male          bool\n",
      "FamilySize       int64\n",
      "dtype: object\n"
     ]
    }
   ],
   "source": [
    "print(\"Data Types in Training Data:\")\n",
    "print(train_data.dtypes)"
   ]
  },
  {
   "cell_type": "code",
   "execution_count": 22,
   "id": "4c843365",
   "metadata": {
    "execution": {
     "iopub.execute_input": "2024-05-07T03:03:03.947225Z",
     "iopub.status.busy": "2024-05-07T03:03:03.946796Z",
     "iopub.status.idle": "2024-05-07T03:03:03.954956Z",
     "shell.execute_reply": "2024-05-07T03:03:03.954142Z"
    },
    "papermill": {
     "duration": 0.02354,
     "end_time": "2024-05-07T03:03:03.957168",
     "exception": false,
     "start_time": "2024-05-07T03:03:03.933628",
     "status": "completed"
    },
    "tags": []
   },
   "outputs": [],
   "source": [
    "# Drop 'Name', 'Ticket', and 'Cabin' columns from the training and test datasets\n",
    "train_data.drop(['Name', 'Ticket', 'Cabin'], axis=1, inplace=True)\n",
    "test_data.drop(['Name', 'Ticket', 'Cabin'], axis=1, inplace=True)"
   ]
  },
  {
   "cell_type": "code",
   "execution_count": 23,
   "id": "e13da38a",
   "metadata": {
    "execution": {
     "iopub.execute_input": "2024-05-07T03:03:03.983114Z",
     "iopub.status.busy": "2024-05-07T03:03:03.982462Z",
     "iopub.status.idle": "2024-05-07T03:03:03.990887Z",
     "shell.execute_reply": "2024-05-07T03:03:03.990069Z"
    },
    "papermill": {
     "duration": 0.024522,
     "end_time": "2024-05-07T03:03:03.993261",
     "exception": false,
     "start_time": "2024-05-07T03:03:03.968739",
     "status": "completed"
    },
    "tags": []
   },
   "outputs": [],
   "source": [
    "# Impute missing values in the 'Embarked' column with the most frequent value\n",
    "most_frequent_embarked = train_data['Embarked'].mode()[0]\n",
    "train_data['Embarked'] = train_data['Embarked'].fillna(most_frequent_embarked)\n",
    "test_data['Embarked'] = test_data['Embarked'].fillna(most_frequent_embarked)\n"
   ]
  },
  {
   "cell_type": "code",
   "execution_count": 24,
   "id": "a1372421",
   "metadata": {
    "execution": {
     "iopub.execute_input": "2024-05-07T03:03:04.018922Z",
     "iopub.status.busy": "2024-05-07T03:03:04.018270Z",
     "iopub.status.idle": "2024-05-07T03:03:04.024406Z",
     "shell.execute_reply": "2024-05-07T03:03:04.023554Z"
    },
    "papermill": {
     "duration": 0.021756,
     "end_time": "2024-05-07T03:03:04.026746",
     "exception": false,
     "start_time": "2024-05-07T03:03:04.004990",
     "status": "completed"
    },
    "tags": []
   },
   "outputs": [],
   "source": [
    "# Convert 'Embarked' column to integer type\n",
    "train_data['Embarked'] = train_data['Embarked'].astype(int)\n",
    "test_data['Embarked'] = test_data['Embarked'].astype(int)"
   ]
  },
  {
   "cell_type": "code",
   "execution_count": 25,
   "id": "e3d538b6",
   "metadata": {
    "execution": {
     "iopub.execute_input": "2024-05-07T03:03:04.052231Z",
     "iopub.status.busy": "2024-05-07T03:03:04.051550Z",
     "iopub.status.idle": "2024-05-07T03:03:04.058679Z",
     "shell.execute_reply": "2024-05-07T03:03:04.057405Z"
    },
    "papermill": {
     "duration": 0.022611,
     "end_time": "2024-05-07T03:03:04.060956",
     "exception": false,
     "start_time": "2024-05-07T03:03:04.038345",
     "status": "completed"
    },
    "tags": []
   },
   "outputs": [
    {
     "name": "stdout",
     "output_type": "stream",
     "text": [
      "Unique values in the 'Embarked' column:\n",
      "[0 1 2]\n"
     ]
    }
   ],
   "source": [
    "print(\"Unique values in the 'Embarked' column:\")\n",
    "print(train_data['Embarked'].unique())"
   ]
  },
  {
   "cell_type": "code",
   "execution_count": 26,
   "id": "86172a0e",
   "metadata": {
    "execution": {
     "iopub.execute_input": "2024-05-07T03:03:04.087720Z",
     "iopub.status.busy": "2024-05-07T03:03:04.086449Z",
     "iopub.status.idle": "2024-05-07T03:03:04.093971Z",
     "shell.execute_reply": "2024-05-07T03:03:04.092453Z"
    },
    "papermill": {
     "duration": 0.023487,
     "end_time": "2024-05-07T03:03:04.096723",
     "exception": false,
     "start_time": "2024-05-07T03:03:04.073236",
     "status": "completed"
    },
    "tags": []
   },
   "outputs": [],
   "source": [
    "# Find rows where 'Embarked' column contains the string value 'Partner, Mr. Austen'\n",
    "problematic_rows_train = train_data[train_data['Embarked'] == 'Partner, Mr. Austen']\n",
    "problematic_rows_test = test_data[test_data['Embarked'] == 'Partner, Mr. Austen']\n"
   ]
  },
  {
   "cell_type": "code",
   "execution_count": 27,
   "id": "05af4942",
   "metadata": {
    "execution": {
     "iopub.execute_input": "2024-05-07T03:03:04.123793Z",
     "iopub.status.busy": "2024-05-07T03:03:04.123362Z",
     "iopub.status.idle": "2024-05-07T03:03:04.130311Z",
     "shell.execute_reply": "2024-05-07T03:03:04.128869Z"
    },
    "papermill": {
     "duration": 0.024059,
     "end_time": "2024-05-07T03:03:04.133365",
     "exception": false,
     "start_time": "2024-05-07T03:03:04.109306",
     "status": "completed"
    },
    "tags": []
   },
   "outputs": [
    {
     "name": "stdout",
     "output_type": "stream",
     "text": [
      "Problematic rows in training data:\n",
      "Empty DataFrame\n",
      "Columns: [PassengerId, Survived, Pclass, Age, Fare, Embarked, Sex_male, FamilySize]\n",
      "Index: []\n"
     ]
    }
   ],
   "source": [
    "print(\"Problematic rows in training data:\")\n",
    "print(problematic_rows_train)"
   ]
  },
  {
   "cell_type": "code",
   "execution_count": 28,
   "id": "62f668e9",
   "metadata": {
    "execution": {
     "iopub.execute_input": "2024-05-07T03:03:04.160090Z",
     "iopub.status.busy": "2024-05-07T03:03:04.159634Z",
     "iopub.status.idle": "2024-05-07T03:03:04.166900Z",
     "shell.execute_reply": "2024-05-07T03:03:04.165336Z"
    },
    "papermill": {
     "duration": 0.023933,
     "end_time": "2024-05-07T03:03:04.169808",
     "exception": false,
     "start_time": "2024-05-07T03:03:04.145875",
     "status": "completed"
    },
    "tags": []
   },
   "outputs": [
    {
     "name": "stdout",
     "output_type": "stream",
     "text": [
      "Problematic rows in test data:\n",
      "Empty DataFrame\n",
      "Columns: [PassengerId, Pclass, Age, Fare, Embarked, Sex_male, FamilySize]\n",
      "Index: []\n"
     ]
    }
   ],
   "source": [
    "print(\"Problematic rows in test data:\")\n",
    "print(problematic_rows_test)"
   ]
  },
  {
   "cell_type": "code",
   "execution_count": null,
   "id": "613f9fcb",
   "metadata": {
    "papermill": {
     "duration": 0.011836,
     "end_time": "2024-05-07T03:03:04.193648",
     "exception": false,
     "start_time": "2024-05-07T03:03:04.181812",
     "status": "completed"
    },
    "tags": []
   },
   "outputs": [],
   "source": []
  }
 ],
 "metadata": {
  "kaggle": {
   "accelerator": "none",
   "dataSources": [
    {
     "databundleVersionId": 26502,
     "sourceId": 3136,
     "sourceType": "competition"
    }
   ],
   "dockerImageVersionId": 30698,
   "isGpuEnabled": false,
   "isInternetEnabled": true,
   "language": "python",
   "sourceType": "notebook"
  },
  "kernelspec": {
   "display_name": "Python 3",
   "language": "python",
   "name": "python3"
  },
  "language_info": {
   "codemirror_mode": {
    "name": "ipython",
    "version": 3
   },
   "file_extension": ".py",
   "mimetype": "text/x-python",
   "name": "python",
   "nbconvert_exporter": "python",
   "pygments_lexer": "ipython3",
   "version": "3.10.13"
  },
  "papermill": {
   "default_parameters": {},
   "duration": 8.665597,
   "end_time": "2024-05-07T03:03:04.928255",
   "environment_variables": {},
   "exception": null,
   "input_path": "__notebook__.ipynb",
   "output_path": "__notebook__.ipynb",
   "parameters": {},
   "start_time": "2024-05-07T03:02:56.262658",
   "version": "2.5.0"
  }
 },
 "nbformat": 4,
 "nbformat_minor": 5
}
